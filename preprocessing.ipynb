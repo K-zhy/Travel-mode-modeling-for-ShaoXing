{
 "cells": [
  {
   "cell_type": "code",
   "execution_count": 18,
   "metadata": {},
   "outputs": [
    {
     "name": "stdout",
     "output_type": "stream",
     "text": [
      "CSV文件的行数为: 18392\n"
     ]
    }
   ],
   "source": [
    "import pandas as pd\n",
    "\n",
    "# 原文件、未进行处理\n",
    "try:\n",
    "    df = pd.read_csv('绍兴市居民出行调查－答卷汇总.csv', encoding='utf-8')\n",
    "    print('utf-8')\n",
    "except UnicodeDecodeError:\n",
    "    try:\n",
    "        df = pd.read_csv('绍兴市居民出行调查－答卷汇总.csv', encoding='GBK')   # 使用编码GBK\n",
    "    except UnicodeDecodeError:\n",
    "        df = pd.read_csv('绍兴市居民出行调查－答卷汇总.csv', encoding='latin1')\n",
    "\n",
    "# 获取行数\n",
    "num_rows = df.shape[0]\n",
    "\n",
    "print(f\"CSV文件的行数为: {num_rows}\")\n"
   ]
  },
  {
   "cell_type": "code",
   "execution_count": 19,
   "metadata": {},
   "outputs": [
    {
     "name": "stdout",
     "output_type": "stream",
     "text": [
      "列名： Index(['序号', '提交答卷时间', '所用时间', '来自IP', '来源渠道', '第1题(1)', '第1题(2)', '第2题(1)',\n",
      "       '第3题(1)', '第3题(2)',\n",
      "       ...\n",
      "       '第62题(3)', '第62题(4)', '第62题(5)', '第62题(6)', '第63题(1)', '第63题(2)',\n",
      "       '第63题(3)', '第63题(4)', '第63题(5)', '第63题(6)'],\n",
      "      dtype='object', length=488)\n"
     ]
    }
   ],
   "source": [
    "print(\"列名：\", df.columns)"
   ]
  },
  {
   "cell_type": "code",
   "execution_count": 23,
   "metadata": {},
   "outputs": [],
   "source": [
    "df = pd.read_csv('绍兴市居民出行调查－答卷汇总.csv', encoding='GBK',dtype={'所用时间': str})\n",
    "df['所用时间'] = df['所用时间'].str.replace('秒', '').astype(int)\n",
    "\n",
    "# 将修改后的数据保存到原始CSV文件中，覆盖原始数据\n",
    "df.to_csv('绍兴市居民出行调查－答卷汇总.csv', index=False)"
   ]
  },
  {
   "cell_type": "code",
   "execution_count": 25,
   "metadata": {},
   "outputs": [
    {
     "name": "stdout",
     "output_type": "stream",
     "text": [
      "已删除'所用时间'小于90秒的行，并保存到 filtered_file1.csv\n"
     ]
    }
   ],
   "source": [
    "# 去除填写时间小于90s\n",
    "# 删除 \"所用时间\" 列中值小于90秒的行\n",
    "df_filtered = df[df['所用时间'] >= 90]\n",
    "\n",
    "# 保存过滤后的数据到一个新的CSV文件\n",
    "df_filtered.to_csv('filtered_file1.csv', index=False)\n",
    "\n",
    "print(\"已删除'所用时间'小于90秒的行，并保存到 filtered_file1.csv\")\n",
    "# "
   ]
  }
 ],
 "metadata": {
  "kernelspec": {
   "display_name": "langchain",
   "language": "python",
   "name": "python3"
  },
  "language_info": {
   "codemirror_mode": {
    "name": "ipython",
    "version": 3
   },
   "file_extension": ".py",
   "mimetype": "text/x-python",
   "name": "python",
   "nbconvert_exporter": "python",
   "pygments_lexer": "ipython3",
   "version": "3.8.16"
  }
 },
 "nbformat": 4,
 "nbformat_minor": 2
}
